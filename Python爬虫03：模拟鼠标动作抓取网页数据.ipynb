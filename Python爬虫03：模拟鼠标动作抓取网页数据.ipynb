{
 "cells": [
  {
   "cell_type": "markdown",
   "metadata": {},
   "source": [
    "# Python模拟鼠标动作抓取网页数据"
   ]
  },
  {
   "cell_type": "markdown",
   "metadata": {},
   "source": [
    "\n",
    "作者：上海交通大学 安泰经济与管理学院 周志中\n",
    "\n",
    "2017-06-10, updated on 2018-10-20\n"
   ]
  },
  {
   "cell_type": "markdown",
   "metadata": {},
   "source": [
    "## 抓取东方财富网基金排名数据"
   ]
  },
  {
   "cell_type": "markdown",
   "metadata": {},
   "source": [
    "本文介绍如何使用Python+Selenium模拟鼠标点击动作来抓取网页数据。Python+Selenium的文档说明可以在[Selenium with Python](http://selenium-python.readthedocs.io/index.html)找到。制作本文档使用了[Jupyter Notebook](http://jupyter.org/)，可参看[Jupyter Notebook入门（上）](http://codingpy.com/article/getting-started-with-jupyter-notebook-part-1/)和[Jupyter Notebook入门（下）](http://codingpy.com/article/getting-started-with-jupyter-notebook-part-2/)。当中的Markdown语法介绍可在[Markdown 语法说明](http://www.appinn.com/markdown/)和[Markdown——入门指南](http://www.jianshu.com/p/1e402922ee32/)找到。\n",
    "\n",
    "我们首先抓取的数据是东方财富网提供的股票型的开放式基金[排名情况](http://fund.eastmoney.com/data/fundranking.html)。输入网页网址之后，我们看到的是全部基金排名，如果想看股票型基金排名，还需要点击“股票型”Tab选项卡。这样我们就需要模拟鼠标点击动作，才可以拿到股票型基金排名的数据。不过在此之前我们需要准确定位“股票型”选项卡。在Firefox浏览器中打开网页，使用右键点击选项卡，然后点击Inspect Element（或者按“Q”键），这时候弹出Inspector窗口（见下图）。"
   ]
  },
  {
   "cell_type": "markdown",
   "metadata": {
    "collapsed": true
   },
   "source": [
    "![定位“股票型”选项卡的CSS Selector地址](/tree/Pictures/WebScrapper01.jpg)"
   ]
  },
  {
   "cell_type": "markdown",
   "metadata": {},
   "source": [
    "在Inspector窗口定位到“股票型”选项卡，这时候选项卡整个变成蓝色（你可能需要在Insepector窗口中上下移动1-2行代码）。接下来是在代码行点击右键，然后选择Copy，CSS Selector，将CSS Selector定位地址拷贝到剪贴板。这个定位地址是：#types > li:nth-child(2)。"
   ]
  },
  {
   "cell_type": "code",
   "execution_count": 28,
   "metadata": {},
   "outputs": [],
   "source": [
    "from selenium import webdriver\n",
    "import time\n",
    "\n",
    "driver = webdriver.Firefox();\n",
    "driver.get(\"http://fund.eastmoney.com/data/fundranking.html\");\n",
    "          \n",
    "#Click '股票型'#\n",
    "driver.find_element_by_css_selector(\"#types > li:nth-child(2)\").click();\n",
    "time.sleep(10) #sleep 10 seconds till the page is loaded#"
   ]
  },
  {
   "cell_type": "markdown",
   "metadata": {},
   "source": [
    "上面的语句导入Selenium Webdriver驱动Firefox浏览器，并打开东方财富网的开放式基金排名网页，然后是点击“股票型”选项卡。模拟鼠标点击动作时我们使用了Css Selector定位选项卡元素所在位置，然后使用click()函数对该元素执行点击动作。最后是等待10秒，以便股票型基金的网页数据全部调出来。"
   ]
  },
  {
   "cell_type": "markdown",
   "metadata": {},
   "source": [
    "![定位表格内容tbody的CSS Selector地址](/tree/Pictures/WebScrapper02.jpg)"
   ]
  },
  {
   "cell_type": "markdown",
   "metadata": {},
   "source": [
    "我们可以定位到表格的tbody地址（#dbtable > tbody），直接把表格内容全部提取出来，不过更精准的数据提取方式还是在表格当中逐行提取。在Firefox浏览器中表格头中某个元素（例如“基金代码”）右键点击，然后点击Inspect Element（或者按“Q”键），进入Insepector窗口。在定位到的代码行上下几行寻找`<tbody>`下的`<tr>`（table row）标签，然后点击该tag，这时候浏览器中的表格某一行会被选中（见图2）。然后在`<tr>`代码行上点击右键，然后选择Copy，XPath，将XPath定位地址拷贝到剪贴板。分析XPath发现，表格当中某一行的XPath是`/html/body/div[7]/div[3]/table[2]/tbody/tr[i]`，其中i取值从1到50。这就意味着通过XPath`/html/body/div[7]/div[3]/table[2]/tbody/tr`预计可以提取出表格当中所有行。"
   ]
  },
  {
   "cell_type": "code",
   "execution_count": 29,
   "metadata": {},
   "outputs": [
    {
     "data": {
      "text/plain": [
       "50"
      ]
     },
     "execution_count": 29,
     "metadata": {},
     "output_type": "execute_result"
    }
   ],
   "source": [
    "#elems = driver.find_elements_by_xpath(\"/html/body/div[7]/div[3]/table[2]/tbody/tr\");\n",
    "elems = driver.find_elements_by_xpath(\"//table[2]/tbody/tr\"); \n",
    "#We shortern the full XPath by using '//' to neglect XPath expression before '//'\n",
    "#Why don't we use elems = driver.find_elements_by_xpath(\"//tr\"); ?\n",
    "#It will extract all elements with <tr> tag, Yet len(elems)=69 showing that we extract 19 unwanted Web element. \n",
    "len(elems) # We find that using the XPath \"//table[2]/tbody/tr\" , we may get exactly 50 Web elements. "
   ]
  },
  {
   "cell_type": "code",
   "execution_count": 30,
   "metadata": {},
   "outputs": [
    {
     "data": {
      "text/plain": [
       "'1\\n161629\\n融通证券分级\\n10-22 1.1120 0.5020 10.32% 12.66% -2.46% -4.46% -16.66% -32.98% -36.02% -38.45% -24.66% -51.38% -32.60% 0.12%'"
      ]
     },
     "execution_count": 30,
     "metadata": {},
     "output_type": "execute_result"
    }
   ],
   "source": [
    "elems = driver.find_elements_by_xpath(\"//table[2]/tbody/tr\"); \n",
    "elems[0].text"
   ]
  },
  {
   "cell_type": "markdown",
   "metadata": {},
   "source": [
    "将换行符换成空格。"
   ]
  },
  {
   "cell_type": "code",
   "execution_count": 31,
   "metadata": {},
   "outputs": [
    {
     "data": {
      "text/plain": [
       "'1 161629 融通证券分级 10-22 1.1120 0.5020 10.32% 12.66% -2.46% -4.46% -16.66% -32.98% -36.02% -38.45% -24.66% -51.38% -32.60% 0.12%'"
      ]
     },
     "execution_count": 31,
     "metadata": {},
     "output_type": "execute_result"
    }
   ],
   "source": [
    "elems[0].text.replace('\\n',' ') #将换行符换成空格。"
   ]
  },
  {
   "cell_type": "markdown",
   "metadata": {},
   "source": [
    "网页上可以看到50行，而`elems`有50个元素，可见我们已经提取出所有行的数据。其中`elems[0]`对应的是第一行的数据，`elem[49]`对应的是第50行的数据。分析网页元素发现，每个`tr`标签下还有多个`td`标签存放每一行的多个表格的取值。由于表格当中的缺失值被“---”替代，不存在空的格子，因此我们可以直接读每一行的所有信息而不必去读每一个`td`标签当中的取值。"
   ]
  },
  {
   "cell_type": "code",
   "execution_count": 32,
   "metadata": {},
   "outputs": [
    {
     "name": "stdout",
     "output_type": "stream",
     "text": [
      "['1', '161629', '融通证券分级', '10-22', '1.1120', '0.5020', '10.32%', '12.66%', '-2.46%', '-4.46%', '-16.66%', '-32.98%', '-36.02%', '-38.45%', '-24.66%', '-51.38%', '-32.60%', '0.12%']\n",
      "18\n"
     ]
    }
   ],
   "source": [
    "print(elems[0].text.replace('\\n',' ').split(' ')) #将一行数据转换成含有多个元素的列表变量\n",
    "print(len(elems[0].text.replace('\\n',' ').split(' '))) #看列表当中有多少个元素"
   ]
  },
  {
   "cell_type": "markdown",
   "metadata": {},
   "source": [
    "使用和上面类似的方法提取出表头名。"
   ]
  },
  {
   "cell_type": "code",
   "execution_count": 33,
   "metadata": {},
   "outputs": [
    {
     "name": "stdout",
     "output_type": "stream",
     "text": [
      "['比较', '序号', '基金', '代码', '基金简称', '日期', '单位净值', '累计净值', '日增长率', '近1周', '近1月', '近3月', '近6月', '近1年', '近2年', '近3年', '今年来', '成立来', '自定义', '手续费', '可购', '全部']\n",
      "['基金简称', '日期', '单位净值', '累计净值', '日增长率', '近1周', '近1月', '近3月', '近6月', '近1年', '近2年', '近3年', '今年来', '成立来', '自定义', '手续费']\n",
      "['序号', '基金代码', '基金简称', '日期', '单位净值', '累计净值', '日增长率', '近1周', '近1月', '近3月', '近6月', '近1年', '近2年', '近3年', '今年来', '成立来', '自定义', '手续费']\n",
      "18\n"
     ]
    }
   ],
   "source": [
    "#elem = driver.find_element_by_xpath(\"/html/body/div[7]/div[3]/table[2]/thead/tr\");  #full path\n",
    "elem = driver.find_element_by_xpath(\"//table[2]/thead/tr\"); \n",
    "print(elem.text.replace('\\n',' ').split(' ')) #看表头信息，发现第一个'比较'和最后一个'全部'不是我们提取出的数据的表头，\n",
    "#然后'基金代码'被切割成2块了。\n",
    "print(elem.text.replace('\\n',' ').split(' ')[4:-2]) #提取我们所需要的表头，从下标为4的元素开始（第5个元素），到倒数第3个。\n",
    "ColumnNames = ['序号','基金代码']+elem.text.replace('\\n',' ').split(' ')[4:-2]   #加入'序号'、'基金代码'\n",
    "print(ColumnNames) \n",
    "print(len(ColumnNames)) #检查表头长度是否恰好为18个元素。"
   ]
  },
  {
   "cell_type": "markdown",
   "metadata": {},
   "source": [
    "下面是提取表格当中所有数据存放在df数据框当中。"
   ]
  },
  {
   "cell_type": "code",
   "execution_count": 34,
   "metadata": {},
   "outputs": [
    {
     "name": "stdout",
     "output_type": "stream",
     "text": [
      "      基金代码    基金简称     日期    单位净值    累计净值    日增长率     近1周     近1月      近3月  \\\n",
      "0   161629  融通证券分级  10-22  1.1120  0.5020  10.32%  12.66%  -2.46%   -4.46%   \n",
      "1   160419  华安中证全指  10-22  1.1084  0.4443   9.81%  12.24%  -2.65%   -4.61%   \n",
      "2   161027  富国中证全指  10-22  1.1060  0.4240   9.61%  11.94%  -2.37%   -4.45%   \n",
      "3   004069  南方中证全指  10-22  0.7057  0.7057   9.53%  11.59%  -3.17%   -4.79%   \n",
      "4   004070  南方中证全指  10-22  0.7009  0.7009   9.52%  11.57%  -3.22%   -4.90%   \n",
      "5   501016  国泰中证申万  10-22  0.7299  0.7299   9.35%  11.55%  -2.96%   -4.25%   \n",
      "6   161720  招商中证全指  10-22  0.8113  0.6019   9.46%  11.47%  -3.24%   -5.22%   \n",
      "7   160633  鹏华证券分级  10-22  1.0010  0.4260   9.52%  11.47%  -2.82%   -4.61%   \n",
      "8   502010  易方达证券公  10-22  0.7791     ---   9.45%  11.44%  -3.25%   -5.00%   \n",
      "9   163113  申万菱信申万  10-22  1.1215  1.5002   9.06%  11.40%  -2.92%   -4.62%   \n",
      "10  502053  长盛中证证券  10-22  1.0210     ---   9.31%  11.34%  -2.95%   -4.88%   \n",
      "11  540010  汇丰晋信科技  10-22  1.4770  1.4770   6.31%  11.32%  -1.29%  -18.13%   \n",
      "12  006098  华宝券商ET  10-22  0.9746  0.9746   9.21%  11.18%  -3.46%   -2.47%   \n",
      "13  160516  博时中证80  10-22  0.9469  0.6246   7.47%  10.12%  -1.54%   -1.23%   \n",
      "14  001553  天弘中证证券  10-22  0.6682  0.6682   7.31%   9.85%  -1.17%   -0.30%   \n",
      "15  001552  天弘中证证券  10-22  0.6738  0.6738   7.29%   9.85%  -1.16%   -0.25%   \n",
      "16  160625  鹏华证券保险  10-22  1.0080  1.6620   6.89%   9.68%  -1.08%   -0.20%   \n",
      "17  000950  易方达沪深3  10-22  0.7929  0.7929   5.99%   8.97%  -0.73%    2.89%   \n",
      "18  001707  诺安高端制造  10-22  0.8210  0.8210   4.59%   8.31%  -4.53%   -9.98%   \n",
      "19  164907  交银中证互联  10-22  1.0770  0.4850   5.18%   8.31%  -5.73%   -9.44%   \n",
      "20  502036  大成中证互联  10-22  0.7268  0.5194   5.15%   8.20%  -6.10%   -9.73%   \n",
      "21  161033  富国中证智能  10-22  0.7210  0.7210   6.19%   7.93%  -6.24%  -13.96%   \n",
      "22  160629  鹏华传媒分级  10-22  0.8210  1.1480   4.99%   7.88%  -7.34%  -18.47%   \n",
      "23  164818  工银中证传媒  10-22  0.8268  0.2373   4.79%   7.56%  -7.36%  -18.73%   \n",
      "24  001938  中欧时代先锋  10-22  1.0897  1.5557   5.06%   7.55%  -2.28%   -6.98%   \n",
      "25  004241  中欧时代先锋  10-22  1.0736  1.3276   5.05%   7.52%  -2.35%   -7.16%   \n",
      "26  003054  嘉实文体娱乐  10-22  0.8660  0.8660   4.84%   7.31%  -6.48%  -14.93%   \n",
      "27  003053  嘉实文体娱乐  10-22  0.8730  0.8730   4.68%   7.25%  -6.53%  -14.91%   \n",
      "28  167301  方正富邦保险  10-22  1.1990  1.2570   3.99%   7.05%   1.44%    5.64%   \n",
      "29  005885  金鹰信息产业  10-22  0.9915  0.9915   4.17%   7.02%   0.31%   -3.66%   \n",
      "30  003853  金鹰信息产业  10-22  0.9826  1.0006   4.18%   7.01%   0.35%   -3.55%   \n",
      "31  001223  鹏华文化传媒  10-22  0.8800  0.8800   4.76%   6.93%  -3.61%  -16.98%   \n",
      "32  002332  汇丰晋信沪港  10-22  0.9658  1.0208   4.71%   6.87%  -5.03%  -10.03%   \n",
      "33  002333  汇丰晋信沪港  10-22  0.9529  1.0079   4.69%   6.85%  -5.07%  -10.15%   \n",
      "34  000309  大摩品质生活  10-22  1.5180  1.5180   4.91%   6.83%  -2.88%   -4.11%   \n",
      "35  003145  中融竞争优势  10-22  0.6448  0.6448   5.69%   6.81%  -8.99%  -25.16%   \n",
      "36  005310  广发电子信息  10-22  0.7050  0.7050   4.82%   6.75%  -7.22%  -16.82%   \n",
      "37  160420  华安创业板5  10-22  0.8891  0.2262   5.73%   6.71%  -8.41%  -19.46%   \n",
      "38  165521  信诚中证80  10-22  0.9260  1.6070   4.04%   6.68%  -0.43%    4.16%   \n",
      "39  005495  创金合信科技  10-22  0.8045  0.8045   4.88%   6.63%  -4.17%  -13.87%   \n",
      "40  160224  国泰深证TM  10-22  0.7762  0.5500   5.86%   6.61%  -9.10%  -21.29%   \n",
      "41  005496  创金合信科技  10-22  0.8031  0.8031   4.86%   6.60%  -4.22%  -13.98%   \n",
      "42  217019  招商深证TM  10-22  1.0247  1.0247   5.76%   6.58%  -9.16%  -21.45%   \n",
      "43  004752  广发中证传媒  10-22  0.6642  0.6642   4.47%   6.48%  -7.10%  -17.69%   \n",
      "44  004753  广发中证传媒  10-22  0.6648  0.6648   4.46%   6.47%  -7.11%  -17.69%   \n",
      "45  160814  长盛中证金融  10-22  0.7410     ---   4.07%   6.47%  -1.85%    3.35%   \n",
      "46  001539  嘉实中证金融  10-22  1.1050  1.1050   4.20%   6.47%  -2.32%    2.62%   \n",
      "47  001313  上投摩根智慧  10-22  0.5440  0.5440   5.22%   6.46%  -5.39%  -22.06%   \n",
      "48  161031  富国中证工业  10-22  0.9290  0.3790   4.85%   6.41%  -7.75%  -16.73%   \n",
      "49  001629  天弘中证计算  10-22  0.5388  0.5388   4.97%   6.38%  -9.84%  -16.30%   \n",
      "\n",
      "        近6月      近1年      近2年      近3年      今年来      成立来    手续费  \n",
      "0   -16.66%  -32.98%  -36.02%  -38.45%  -24.66%  -51.38%  0.12%  \n",
      "1   -16.72%  -33.03%  -35.60%  -35.54%  -24.98%  -55.57%  0.12%  \n",
      "2   -16.20%  -31.75%  -34.10%  -33.33%  -23.86%  -58.83%  0.12%  \n",
      "3   -16.59%  -31.70%      ---      ---  -24.11%  -29.43%  0.12%  \n",
      "4   -16.77%  -31.97%      ---      ---  -24.36%  -29.91%  0.00%  \n",
      "5   -15.81%  -32.01%      ---      ---  -23.90%  -27.01%  0.12%  \n",
      "6   -17.04%  -32.63%  -35.75%  -35.83%  -24.80%  -55.01%  0.10%  \n",
      "7   -16.53%  -32.49%  -33.55%  -39.63%  -24.66%  -58.71%  0.12%  \n",
      "8   -16.54%  -31.67%  -30.46%  -32.69%  -24.23%  -48.69%  0.10%  \n",
      "9   -16.56%  -32.26%  -34.93%  -35.35%  -24.40%    1.55%  0.12%  \n",
      "10  -16.67%  -32.40%  -35.21%  -37.32%  -24.57%  -30.87%  0.12%  \n",
      "11  -20.72%  -29.47%  -32.08%  -31.83%  -25.19%   47.70%  0.15%  \n",
      "12      ---      ---      ---      ---      ---   -2.54%  0.10%  \n",
      "13   -9.12%  -22.26%  -11.41%  -10.58%  -20.00%  -37.54%  0.10%  \n",
      "14   -8.34%  -21.03%  -11.53%   -9.70%  -19.51%  -33.18%  0.00%  \n",
      "15   -8.24%  -20.84%  -11.11%   -9.06%  -19.36%  -32.62%  0.10%  \n",
      "16   -8.53%  -22.05%  -12.36%  -11.58%  -19.54%   38.02%  0.60%  \n",
      "17   -3.68%  -12.93%    3.43%    6.46%  -14.16%  -20.71%  0.10%  \n",
      "18  -15.36%  -17.32%      ---      ---  -14.12%  -17.90%  0.15%  \n",
      "19  -20.64%  -26.94%  -32.97%  -43.09%  -20.63%  -51.45%  0.12%  \n",
      "20  -20.99%  -27.32%  -31.97%  -41.48%  -20.97%  -49.60%  0.12%  \n",
      "21  -21.89%  -36.19%  -31.85%      ---  -31.66%  -27.90%  0.12%  \n",
      "22  -28.56%  -39.33%  -51.49%  -58.26%  -33.07%  -44.06%  0.12%  \n",
      "23  -29.33%  -42.10%  -55.85%  -63.11%  -33.46%  -77.94%  0.00%  \n",
      "24  -10.48%   -4.16%   28.09%      ---   -7.00%   63.31%  0.15%  \n",
      "25  -10.82%   -4.99%      ---      ---   -7.61%   22.06%  0.00%  \n",
      "26  -21.20%  -21.84%  -13.66%      ---  -20.62%  -13.40%  0.00%  \n",
      "27  -21.07%  -21.70%  -13.05%      ---  -20.42%  -12.70%  0.15%  \n",
      "28    5.27%   -3.15%   28.88%   32.95%  -11.05%   25.90%  0.08%  \n",
      "29   -3.72%      ---      ---      ---      ---   -3.75%  0.00%  \n",
      "30   -4.59%   -1.46%      ---      ---   -3.39%    0.03%  0.12%  \n",
      "31  -20.65%  -20.43%  -20.00%      ---  -19.85%  -12.00%  0.15%  \n",
      "32  -14.49%  -18.16%      ---      ---  -21.34%    1.54%  0.15%  \n",
      "33  -14.71%  -18.60%      ---      ---  -21.69%    0.24%  0.00%  \n",
      "34  -12.20%  -19.73%  -15.81%   13.20%  -20.15%   51.80%  0.15%  \n",
      "35  -28.56%  -37.91%  -36.01%      ---  -30.64%  -35.52%  0.15%  \n",
      "36  -23.50%      ---      ---      ---  -29.27%  -29.50%  0.15%  \n",
      "37  -28.49%  -42.51%  -56.00%  -66.66%  -28.45%  -77.38%  0.12%  \n",
      "38   -2.22%   -9.78%    4.01%    7.17%   -9.13%   60.72%  0.12%  \n",
      "39  -21.73%      ---      ---      ---  -19.58%  -19.55%  0.15%  \n",
      "40  -29.67%  -35.28%  -27.82%  -34.14%  -34.85%  -46.02%  0.00%  \n",
      "41  -21.92%      ---      ---      ---  -19.72%  -19.69%  0.00%  \n",
      "42  -29.57%  -35.39%  -31.09%  -38.01%  -34.94%    2.47%  0.15%  \n",
      "43  -27.32%      ---      ---      ---      ---  -33.58%  0.12%  \n",
      "44  -27.30%      ---      ---      ---      ---  -33.52%  0.00%  \n",
      "45   -3.77%   -8.85%    3.34%    7.92%  -10.51%  -19.60%  0.12%  \n",
      "46   -5.77%  -11.32%    0.29%    3.74%  -12.88%   10.50%  0.12%  \n",
      "47  -24.97%  -35.77%  -23.60%  -28.14%  -27.47%  -45.60%  0.15%  \n",
      "48  -25.87%  -35.21%  -39.07%  -44.03%  -30.41%  -63.27%  0.12%  \n",
      "49  -26.32%  -23.25%  -30.80%  -41.75%  -21.15%  -46.12%  0.10%  \n"
     ]
    }
   ],
   "source": [
    "import pandas as pd\n",
    "df = pd.DataFrame(columns = ColumnNames); idx =0;\n",
    "elems = driver.find_elements_by_xpath(\"//table[2]/tbody/tr\"); \n",
    "for elem in elems:\n",
    "    rowdata = elem.text.replace('\\n',' ').split(' ')\n",
    "    df.loc[idx]=rowdata ; idx += 1\n",
    "df.drop(['序号','自定义'],axis=1, inplace=True)    #删掉2列。\n",
    "print(df)"
   ]
  },
  {
   "cell_type": "code",
   "execution_count": 35,
   "metadata": {},
   "outputs": [],
   "source": [
    "driver.close();"
   ]
  },
  {
   "cell_type": "markdown",
   "metadata": {},
   "source": [
    "最后我们关闭Selenium Webdriver。"
   ]
  },
  {
   "cell_type": "markdown",
   "metadata": {},
   "source": [
    "## 自动提取百度搜索结果"
   ]
  },
  {
   "cell_type": "markdown",
   "metadata": {},
   "source": [
    "我们将使用另外一个Selenium Webdriver：Chrome Webdriver。首先需要安装Google Chrome浏览器，可以从[谷歌Chrome下载页](http://www.google.cn/chrome/browser/desktop/)下载。然后需要安装ChromeDriver，下载页在[Github的ChromeDriver页](https://github.com/SeleniumHQ/selenium/wiki/ChromeDriver)。不过由于Google被Great Firewall封杀，可以从课程文件夹的/Software/Selenium WebDrivers目录下载。使用ChromeDriver之前要确保ChromeDriver.exe所在目录已经加入Path环境变量中，可参考[Win10中添加环境变量](http://jingyan.baidu.com/article/7e44095332c60c2fc1e2ef58.html)。"
   ]
  },
  {
   "cell_type": "code",
   "execution_count": 1,
   "metadata": {},
   "outputs": [],
   "source": [
    "from selenium import webdriver\n",
    "import time\n",
    "\n",
    "#driver = webdriver.Firefox(); #需要确保geckodriver.exe是最新版本可以操作最新版本的Firefox\n",
    "driver = webdriver.Chrome(); #需要确保chromedriver.exe是最新版本可以操作最新版本的Chrome浏览器\n",
    "driver.get(\"https://www.baidu.com\");"
   ]
  },
  {
   "cell_type": "markdown",
   "metadata": {},
   "source": [
    "运行上面的代码可以使用Selenium Chrome Webdriver打开百度网页。我们打算在搜索栏当中输入“上海交通大学”。在Chrome浏览器中点击搜索栏，然后点击鼠标右键，选择“检查”。在右边的HTML代码行中选择对应搜索框的代码行，然后点击右键，选择Copy，Copy selector，这样就把CSS selector复制到剪贴板。这个CSS selector是：#kw。填写完搜索框我们还要点击“百度一下”按钮。在该按钮上点击右键，同样选择Copy，Copy selector，找到它的CSS selector是：#su。"
   ]
  },
  {
   "cell_type": "code",
   "execution_count": 2,
   "metadata": {},
   "outputs": [],
   "source": [
    "inputbox = driver.find_element_by_css_selector(\"#kw\")\n",
    "inputbox.clear() #Clear the searching box.\n",
    "inputbox.send_keys(\"上海交通大学\")\n",
    "submitbutton= driver.find_element_by_css_selector(\"#su\")\n",
    "submitbutton.click()"
   ]
  },
  {
   "cell_type": "markdown",
   "metadata": {},
   "source": [
    "以上代码实现了在搜索栏中填入“上海交通大学”，然后点击“百度一下”按钮。接下来我们希望提取出搜索结果的文本和URL链接。每页有10个搜索结果，通过分析搜索结果的10个元素，发现搜索结果的文本和URL链接都在h3标签下第一个a标签里，转换成xPath是：//h3/a[1]。h3前面的//（两个斜杠）代表xPath前面是任何字符。例如xPath='/html/body/div[1]/div[5]/div[1]/div[3]/div[5]/h3/a[1]'的时候，这个xPath和'//h3/a[1]'也匹配。提取多个网页元素要用到`driver.find_elements_by_xpath`函数。"
   ]
  },
  {
   "cell_type": "code",
   "execution_count": 3,
   "metadata": {},
   "outputs": [],
   "source": [
    "#Get elements that store text and URL of search results.\n",
    "search_results=driver.find_elements_by_xpath(\"//h3/a[1]\")"
   ]
  },
  {
   "cell_type": "markdown",
   "metadata": {},
   "source": [
    "其中搜索结果的文本是`</a>`和`<a>`标签之间的值。而搜索结果的URL链接则是`</a>`标签中`href`属性的取值。"
   ]
  },
  {
   "cell_type": "code",
   "execution_count": 4,
   "metadata": {},
   "outputs": [
    {
     "name": "stdout",
     "output_type": "stream",
     "text": [
      "['上海交通大学', '上海交通大学_百度百科', '上海交通大学高考分数线_招生信息_中国教育在线', '--上海交通大学发展规划处--', '上海交通大学研究生院', '研究院-上海交通大学', '上海交通大学本科招生网-交大招生办-首页', '概况-上海交通大学', '上海交通大学吧_百度贴吧', '在上海市搜索上海交通大学_百度地图']\n",
      "http://www.baidu.com/link?url=HzCMkjsASUVNqGuaoAgNzsausxKATI1RtOcRuBOXIegxFAYdRwxU8COUNcPqrySj http://www.baidu.com/link?url=z_mpU0QD8L02RJyTB4iDq92gRPX0bYHsAzAPOR1hXZcsrhgkAt_l_AQBPBz9hrI3r8T1T2O18LSLQ_JjuNqtw7EW2SncvXYsm--onV1Fa44306p4gnIYjPElQz0tdLGxBIr-PkYYV0fAByjcwS8Kv_\n"
     ]
    }
   ],
   "source": [
    "Search_Texts =[];\n",
    "Search_URLs = [];\n",
    "for i in range(0,len(search_results)):\n",
    "    Search_Texts.append(search_results[i].text)\n",
    "    Search_URLs.append(search_results[i].get_attribute('href'))\n",
    "print(Search_Texts)\n",
    "print(Search_URLs[0],Search_URLs[1])"
   ]
  },
  {
   "cell_type": "markdown",
   "metadata": {},
   "source": [
    "通过上面的代码，我们得到了第一页搜索结果的所有文本和URL链接。接下来点击“下一页”，可以提取第2页的搜索结果。然后继续点击“下一页”，可以提取第3页的搜索结果。注意：在第1页点击“下一页”时，“下一页”按钮的xpath是：`//*[@id='page']/a[10]`。在第2页点击“下一页”时，“下一页”按钮的xpath是：`//*[@id='page']/a[11]`，这是因为第2页多了一个“上一页”的按钮。第3页，第4页等后续页面的“下一页”按钮的xpath仍然是：`//*[@id='page']/a[11]`保持不变。"
   ]
  },
  {
   "cell_type": "code",
   "execution_count": 5,
   "metadata": {},
   "outputs": [],
   "source": [
    "#click next page to get page 2\n",
    "driver.find_element_by_xpath(\"//*[@id='page']/a[10]\").click()\n",
    "time.sleep(10) #sleep 10 seconds till the page is loaded#\n",
    "#click next page to get page 3\n",
    "driver.find_element_by_xpath(\"//*[@id='page']/a[11]\").click()"
   ]
  },
  {
   "cell_type": "markdown",
   "metadata": {},
   "source": [
    "最后我们关闭Selenium Webdriver。"
   ]
  },
  {
   "cell_type": "code",
   "execution_count": 6,
   "metadata": {},
   "outputs": [],
   "source": [
    "driver.close();"
   ]
  },
  {
   "cell_type": "markdown",
   "metadata": {},
   "source": [
    "## 使用Selenium IDE录制鼠标动作"
   ]
  },
  {
   "cell_type": "markdown",
   "metadata": {},
   "source": [
    "如果我们在提取数据前，有多个鼠标动作并且要输入文字（比如搜索关键词），那么一个个去定位网页元素就非常麻烦。这时可以使用Selenium IDE来录制鼠标动作并自动转成Python语句。Selenium IDE是Firefox浏览器的一个扩展组件（Add-on），可在[Mozilla的Selenium IDE Add-on页面](https://addons.mozilla.org/en-US/firefox/addon/selenium-ide/)下载。\n",
    "\n",
    "Selenium IDE安装完成之后，在Firefox浏览器右上角三条杠附近出现一个新图标（形状是一支笔在一张纸上写字），鼠标移动到该图标上悬浮可见“Selenium IDE”出现。点击这个图标，弹出Selenium IDE窗口。在Selenium IDE窗口有一个红色的录制按钮，点击这个按钮开始录制鼠标动作。\n",
    "\n",
    "接下来我们在Firefox浏览器中输入`https://jenner.com/people`，选择Locations，然后点击New York，选择Law School，然后下拉菜单直到看到Coloumnbia University School of Law，选择这个法学院，接着点击Search by旁边的Keyword，选择关键词搜索栏，输入Associate，最后点击Submit。这时候Selenium IDE已经完成了对所有鼠标动作的录制工作。回到Selenium IDE窗口，点击红色按钮停止录制。在Selenium IDE窗口点击文件，选择Export Test Case As...，选择Python 2/unittest/WebDriver，将录制好的鼠标动作存到新的py文件当中（假设是Record.py）。使用Spyder或者记事本打开Record.py，可以发现`driver.find_element_by...`语句都是我们需要的。"
   ]
  },
  {
   "cell_type": "code",
   "execution_count": 7,
   "metadata": {
    "collapsed": true
   },
   "outputs": [],
   "source": [
    "from selenium import webdriver\n",
    "import time\n",
    "driver = webdriver.Firefox();\n",
    "driver.get(\"https://jenner.com/people\");"
   ]
  },
  {
   "cell_type": "markdown",
   "metadata": {},
   "source": [
    "上面是使用Firefox WebDriver打开Jenner & Block的人员列表页。接下来是一系列鼠标操作："
   ]
  },
  {
   "cell_type": "code",
   "execution_count": 8,
   "metadata": {
    "collapsed": true
   },
   "outputs": [],
   "source": [
    "driver.find_element_by_xpath(\"//form[@id='new_search']/div[4]/div/h1\").click()\n",
    "driver.find_element_by_id(\"search_offices_new_york\").click()\n",
    "driver.find_element_by_css_selector(\"div.filter.schools > div.header > h1\").click()\n",
    "driver.find_element_by_xpath(\"//form[@id='new_search']/div[5]/div/h1\").click()"
   ]
  },
  {
   "cell_type": "markdown",
   "metadata": {},
   "source": [
    "上面的鼠标操作已经选择了Locations搜索栏中的New York，然后选择了Law School搜索栏的下拉列表。这里需要强调一下：Selenium IDE只是录制了鼠标点击动作，并没有录制鼠标的scrolling（上下卷）动作。而点击了Law School的下拉列表是看不到“Coloumnbia University School of Law”这个选项的，必须把鼠标下拉一定距离，才能看到“Coloumnbia University School of Law”这个选项。下面的语句就是把鼠标下拉菜单1000个像素，此时“Coloumnbia University School of Law”这个选项会出现。"
   ]
  },
  {
   "cell_type": "code",
   "execution_count": 9,
   "metadata": {
    "collapsed": true
   },
   "outputs": [],
   "source": [
    "#scroll down the page till 'Coloumnbia University School of Law' is displayed\n",
    "driver.execute_script('window.scrollTo(0,1000)') "
   ]
  },
  {
   "cell_type": "markdown",
   "metadata": {},
   "source": [
    "再次强调，上面的语句是手工加进去的，而不是Selenium IDE录制好的鼠标动作。如果网页元素在页面上不可见，那么使用`driver.find_element`函数就会出错。我们下拉菜单的目的是确保选项在页面上是可见的。下面的一系列鼠标动作和填写搜索栏的动作都是Selenium IDE录制的结果："
   ]
  },
  {
   "cell_type": "code",
   "execution_count": 10,
   "metadata": {
    "collapsed": true
   },
   "outputs": [],
   "source": [
    "driver.find_element_by_id(\"search_schools_0075\").click()\n",
    "driver.find_element_by_xpath(\"(//input[@name='search_scope'])[2]\").click()\n",
    "driver.find_element_by_id(\"search_full_name\").clear()\n",
    "driver.find_element_by_id(\"search_full_name\").send_keys(\"Associate\")\n",
    "driver.find_element_by_name(\"commit\").click()"
   ]
  },
  {
   "cell_type": "markdown",
   "metadata": {},
   "source": [
    "![Jenner & Block的搜索结果](/tree/Pictures/WebScrapper04.png)"
   ]
  },
  {
   "cell_type": "markdown",
   "metadata": {},
   "source": [
    "上图是搜索结果，我们希望从红色框中提取出搜索结果中的所有人名。通过分析网页元素，可以写下面的代码："
   ]
  },
  {
   "cell_type": "code",
   "execution_count": 11,
   "metadata": {},
   "outputs": [
    {
     "data": {
      "text/plain": [
       "['Brittany R. Lamb',\n",
       " 'Justin O. Spiegel',\n",
       " 'Gretchen O. Stertz',\n",
       " 'Irene Ten Cate',\n",
       " 'Bernadette M. Walli']"
      ]
     },
     "execution_count": 11,
     "metadata": {},
     "output_type": "execute_result"
    }
   ],
   "source": [
    "Search_Result = driver.find_element_by_css_selector(\"#searchresultsbox > \\\n",
    "div.column.result-container > div.people-search-results > div.name-row\")\n",
    "Search_Result.text.split('\\n')"
   ]
  },
  {
   "cell_type": "markdown",
   "metadata": {},
   "source": [
    "大功告成，关闭Selenium Webdriver。"
   ]
  },
  {
   "cell_type": "code",
   "execution_count": 12,
   "metadata": {
    "collapsed": true
   },
   "outputs": [],
   "source": [
    "driver.close();"
   ]
  },
  {
   "cell_type": "markdown",
   "metadata": {},
   "source": [
    "其他有用的资料有：Python学习指南中的[Python爬虫](http://www.cnblogs.com/miqi1992/p/8082471.html)。"
   ]
  }
 ],
 "metadata": {
  "kernelspec": {
   "display_name": "Python 3",
   "language": "python",
   "name": "python3"
  },
  "language_info": {
   "codemirror_mode": {
    "name": "ipython",
    "version": 3
   },
   "file_extension": ".py",
   "mimetype": "text/x-python",
   "name": "python",
   "nbconvert_exporter": "python",
   "pygments_lexer": "ipython3",
   "version": "3.7.0"
  }
 },
 "nbformat": 4,
 "nbformat_minor": 2
}
