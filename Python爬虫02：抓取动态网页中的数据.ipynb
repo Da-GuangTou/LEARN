{
 "cells": [
  {
   "cell_type": "markdown",
   "metadata": {},
   "source": [
    "# Python抓取动态网页数据"
   ]
  },
  {
   "cell_type": "markdown",
   "metadata": {},
   "source": [
    "\n",
    "作者：上海交通大学 安泰经济与管理学院 周志中\n",
    "\n",
    "2018-09-15, updated on 2018-09-29\n"
   ]
  },
  {
   "cell_type": "markdown",
   "metadata": {},
   "source": [
    "## 使用Selenium + PhantomJS 抓取动态网页数据"
   ]
  },
  {
   "cell_type": "markdown",
   "metadata": {},
   "source": [
    "如果网页是HTML静态生成的内容，那么直接从HTML源码中就能找到看到的数据和内容，然而并不是所有的网页都是这样的。有一些网站的内容由前端的Java Script动态生成，由于呈现在网页上的内容是由Java Script生成而来，我们能够在浏览器上看得到，但是在HTML源码中却发现不了。例如[微博财经影响力排行榜](https://v6.bang.weibo.com/czv/caijing)，排行榜中的内容是JS生成的。在Firefox当中审查元素发现，排行榜中的微博名保存在标签`<h3>`之下，但使用下面抓取静态网页数据的方法尝试提取标签`<h3>`中的数据，结果失败。"
   ]
  },
  {
   "cell_type": "code",
   "execution_count": 2,
   "metadata": {},
   "outputs": [
    {
     "data": {
      "text/plain": [
       "[]"
      ]
     },
     "execution_count": 2,
     "metadata": {},
     "output_type": "execute_result"
    }
   ],
   "source": [
    "from bs4 import BeautifulSoup\n",
    "import urllib.request\n",
    "\n",
    "url='https://v6.bang.weibo.com/czv/caijing/'\n",
    "resp=urllib.request.urlopen(url)\n",
    "html=resp.read().decode(\"utf-8\")\n",
    "bs = BeautifulSoup(html, \"lxml\")\n",
    "contents = bs.find_all('h3')\n",
    "contents"
   ]
  },
  {
   "cell_type": "markdown",
   "metadata": {},
   "source": [
    "使用Selenium+Firefox抓取也失败。"
   ]
  },
  {
   "cell_type": "code",
   "execution_count": 3,
   "metadata": {},
   "outputs": [
    {
     "name": "stdout",
     "output_type": "stream",
     "text": [
      "0\n"
     ]
    }
   ],
   "source": [
    "from selenium import webdriver\n",
    "\n",
    "driver = webdriver.Firefox();\n",
    "driver.get(\"https://v6.bang.weibo.com/czv/caijing\");\n",
    "\n",
    "elems = driver.find_elements_by_tag_name(\"h3\");\n",
    "print(len(elems))"
   ]
  },
  {
   "cell_type": "markdown",
   "metadata": {},
   "source": [
    "抓取动态网页数据我们需要使用Selenium + PhantomJS。PhantomJS是基于Webkit的无界面（headless）浏览器。需要从[官方网站](phantomjs.org)下载，再将bin目录添加到环境变量Path中。如果我们把Selenium和PhantomJS结合在一起，就可以运行一个非常强大的网络爬虫，这个爬虫可以处理Java Script、Cookie、headers，以及任何我们真实用户需要做的事情。"
   ]
  },
  {
   "cell_type": "code",
   "execution_count": 1,
   "metadata": {
    "scrolled": true
   },
   "outputs": [
    {
     "name": "stderr",
     "output_type": "stream",
     "text": [
      "D:\\Applications\\Analytics\\Anaconda3\\lib\\site-packages\\selenium\\webdriver\\phantomjs\\webdriver.py:49: UserWarning: Selenium support for PhantomJS has been deprecated, please use headless versions of Chrome or Firefox instead\n",
      "  warnings.warn('Selenium support for PhantomJS has been deprecated, please use headless '\n"
     ]
    },
    {
     "name": "stdout",
     "output_type": "stream",
     "text": [
      "20\n"
     ]
    }
   ],
   "source": [
    "from selenium import webdriver\n",
    "\n",
    "driver = webdriver.PhantomJS();\n",
    "driver.get(\"https://v6.bang.weibo.com/czv/caijing\");\n",
    "\n",
    "elems = driver.find_elements_by_tag_name(\"h3\");\n",
    "print(len(elems))"
   ]
  },
  {
   "cell_type": "markdown",
   "metadata": {},
   "source": [
    "很不幸的是，Selenium将来不再支持PhantomJS，不过现在还可以用，而且我们找到了20个标签`<h3>`中间的元素，恰好是排行榜前20名的微博名。Selenium推荐使用headless Firefox来替换PhantomJS。下面的代码显示，将PhantomJS替换成headless Firefox之后，可以读出动态网页由JS生成的内容，并找到`<h3>`标签下的元素。"
   ]
  },
  {
   "cell_type": "code",
   "execution_count": 2,
   "metadata": {},
   "outputs": [
    {
     "name": "stdout",
     "output_type": "stream",
     "text": [
      "20\n"
     ]
    }
   ],
   "source": [
    "options = webdriver.FirefoxOptions()\n",
    "options.set_headless()\n",
    "#options.add_argument('-headless')\n",
    "options.add_argument('--disable-gpu')\n",
    "driver1=webdriver.Firefox(firefox_options=options)\n",
    "\n",
    "driver1.get(\"https://v6.bang.weibo.com/czv/caijing\");\n",
    "\n",
    "elems1 = driver.find_elements_by_tag_name(\"h3\");\n",
    "print(len(elems1))"
   ]
  },
  {
   "cell_type": "markdown",
   "metadata": {},
   "source": [
    "下面的代码打印出排行榜上的微博名。"
   ]
  },
  {
   "cell_type": "code",
   "execution_count": 3,
   "metadata": {
    "scrolled": true
   },
   "outputs": [
    {
     "name": "stdout",
     "output_type": "stream",
     "text": [
      "龚凯杰\n",
      "宇辉战舰\n",
      "武汉刘正涛\n",
      "侯宁\n",
      "洪榕\n",
      "何天恩\n",
      "金融段子王\n",
      "新视界发现者\n",
      "唐史主任司马迁\n",
      "战鹰gavin50\n",
      "浙商投资卢献星V\n",
      "短线刀客888\n",
      "思多金\n",
      "况秀猛\n",
      "雨农观察\n",
      "老虾扯蛋\n",
      "张清华-价值投资最佳代言\n",
      "遂昌快活林\n",
      "李大霄\n",
      "苏渝\n"
     ]
    }
   ],
   "source": [
    "for elem in elems:\n",
    "    print(elem.text)"
   ]
  },
  {
   "cell_type": "markdown",
   "metadata": {},
   "source": [
    "注意到排行榜上的微博的简介在标签`<h4>`中，继续提取排行榜上微博的简介："
   ]
  },
  {
   "cell_type": "code",
   "execution_count": 4,
   "metadata": {},
   "outputs": [
    {
     "name": "stdout",
     "output_type": "stream",
     "text": [
      "音乐填词人 草根股评家，职业投资人 知名财经博主 微博签约自媒体\n",
      "职业投资人 头条文章作者 微博签约自媒体\n",
      "金通盛世投资有限公司 创始人、基金管理人，微博财经视频博主 头条文章作者 微博签约自媒体\n",
      "独立财经观察家，时评家、社会学者、职业投资人 微博签约自媒体\n",
      "职业投资人 知名财经博主\n",
      "  衢州柯城奇正企业文化工作室 创始人 资讯视频自媒体\n",
      "知名财经博主 头条文章作者 微博签约自媒体\n",
      "澄泓财经首席成长股分析师 微博签约自媒体\n",
      "职业投资人 微博签约自媒体\n",
      "微博知名财经博主 鹰氏操盘学超话粉丝大咖 头条文章作者 微博签约自媒体\n",
      "知名财经博主\n",
      "微博股评师 微博签约自媒体\n",
      "头条文章作者\n",
      "Torrey Hills Technologies, LLC总裁\n",
      "职业投资人 微博签约自媒体\n",
      "职业投资人 微博签约自媒体\n",
      "职业投资人 微博签约自媒体\n",
      "浙江省遂昌金矿有限公司经济师，工程师 职业投资人 微博签约自媒体\n",
      "英大证券首席经济学家 微博签约自媒体\n",
      "炒股名博、独立财经观察家、学者、教授 微博签约自媒体\n"
     ]
    }
   ],
   "source": [
    "elems = driver.find_elements_by_tag_name(\"h4\");\n",
    "for elem in elems:\n",
    "    print(elem.text)"
   ]
  },
  {
   "cell_type": "markdown",
   "metadata": {},
   "source": [
    "注意到排行榜上的微博的影响力分数在标签<span>中，但如果使用下面的代码来提取排行榜上微博的影响力分数，就会提取出很多无关的信息，因为这些无关的信息也放在<span>标签中。"
   ]
  },
  {
   "cell_type": "code",
   "execution_count": 5,
   "metadata": {
    "collapsed": true
   },
   "outputs": [
    {
     "name": "stdout",
     "output_type": "stream",
     "text": [
      "\n",
      "98.48\n",
      "\n",
      "\n",
      "我不问 + 你不说 = 误会 我问了 + 你不说 = 隔阂 我问了 + 你说了 = 尊重 你想说 + 我想问 = 默契 我不问 + 你说了 = 信任 心若亲近，言行必如流水般自然 心若疏远，言行只如三秋之树般萧瑟。 且行且珍惜，多一些沟通，多一份信任。 ——\n",
      "\n",
      "97.98\n",
      "\n",
      "\n",
      "调整如期而至，节前谨慎为上 #辉声辉色论涨停# #投资达人说#http://t.cn/EPMr0ZX（下载App->http://t.cn/RDUuslr）\n",
      "\n",
      "97.41\n",
      "\n",
      "\n",
      "#吴秀波老婆# 女演员陈昱霖发文透露自己和已婚演员吴秀波是恋人关系， 已有七年感情， 过去七年做牛做马在照顾吴秀波。 而波叔又上了的女演员张芷溪， 因由张芷溪的“骚扰”， 自己已患上抑郁症。 等下， 让俺整理一下思路， 波叔不是有老婆孩子了吗？ 俺明白了“小三”被“小四”了……。 说实话\n",
      "04\n",
      "97.10\n",
      "\n",
      "\n",
      "股市跌的时候微博上很热闹，反弹了反而安静了许多！都在静静地过节吃月饼？\n",
      "05\n",
      "95.16\n",
      "\n",
      "\n",
      "一个发达国家老大，一个发展中国家老大，两个老大出现了30年来最严重的“摩擦”，这是事实，但美国经济持续走好，经济晴雨表股市也持续创出新高，而中国股市却持续走低……不得不说这逻辑不通，一定有地方判断出现错误了。看中国股市情况投资者对未来经济极度悲观，这样一个经济体经济出现问题竟然对美\n",
      "06\n",
      "94.97\n",
      "\n",
      "\n",
      "最新消息！！2小时前，帝吧百万大军横扫瑞典！第二波“血洗瑞典”已经完成！帝吧出征，寸草不生！对方已彻底投降，全线崩溃！所有的版面都已被占领！壮哉，我中华儿女！！[中国赞]\n",
      "07\n",
      "94.31\n",
      "\n",
      "\n",
      "【最顾家贪污犯：贪污百万为原配治病，原配死后为新女友买房！】近日，北京一中院公开宣判了被告人王喜禄犯贪污罪一案。中国农业大学附属中学会计王喜禄，利用自己的职务便利，多次通过伪造外聘专家信息、虚增代课教师人数等手段，以发放工资的形式骗取该学校财政资金395万余元，后陆续用于其个人消费\n",
      "08\n",
      "94.00\n",
      "\n",
      "\n",
      "【新视界每日划重点】证监会核发1家企业IPO批文筹资总额不超6亿；美股道指再创新高，香港恒生指数跌近2%；油价三个月内可能升破100美元/桶；银河电子：拟斥资0.3亿-3亿元回购公司股份；乾景园林：联合预中标4.5亿元项目；恒润股份：拟1.8亿元收购光科设备51%股权；鸿特科技：拟携手小黄狗环保科技，建\n",
      "09\n",
      "93.67\n",
      "\n",
      "\n",
      "今晚帝吧出征，孩子们好好玩，玩文明点。 玩高兴了，明天该上班上班，该上学上学。\n",
      "10\n",
      "93.63\n",
      "\n",
      "\n",
      "回想起股票割肉止损，吓死宝宝了[偷笑]\n",
      "11\n",
      "93.56\n",
      "\n",
      "\n",
      "【娱乐明星征重税，教师加薪应不低于公务员】给教师加薪，再严惩教师赚外快，受益的是广大学生。 娱乐明星一部电视剧工资几千万。 范冰冰四天拍摄赚千万，本博主认识的一位院士，国家发明专利一等奖，累计为国家创造效益400亿元，月薪4900元，加上国务院专家津贴，院士津贴，一年收入10万元。\n",
      "12\n",
      "93.54\n",
      "\n",
      "\n",
      "从马斯克的超级高铁，到贾布斯的FF91，再到全球最快的电动跑车蔚来EP9，是梦想的距离更大，还是商用的距离更大？[思考][思考] http://t.cn/EPtlTbP\n",
      "13\n",
      "93.53\n",
      "\n",
      "\n",
      "【尊重牺牲的力量】广州有个架子工（建筑工地上搭设脚手架的工人），作业时从二十几楼摔下，在身亡前坠落的一刹那，口中喊的不是“救命”，而是......“都、躲、开......”[心] 在生命的最后一刻，他却还在为别人着想，生而平凡，活却伟大[中国赞]\n",
      "14\n",
      "93.38\n",
      "\n",
      "\n",
      "【美国国家公园系列(6)：恶地国家公园】 恶地国家公园（Badlands National Park）是美国的一座国家公园，位于南达科他州西南部，面积为990平方千米，有很多土丘、尖峰和草地。所谓恶地，就是穷荒险恶之地，印第安人无法在此处种地故得名。这里植被稀少，一片荒凉，像月球表面一样。\n",
      "15\n",
      "93.16\n",
      "\n",
      "\n",
      "中国取消赴美国参加中美贸易谈判，如何解读？ 很明显中国根本不在乎美国的500+2000，这点儿压力算啥？ 这将促使川普调兵遣将，准备下一战役的筹码。 传说中的2670真的会来吗？ 对于中国来说，即使来了， 我们也有必胜的信心与把握！ 我们有巨大的内需消费可以拉动， 我们有14亿人民的共克时艰， 我们有\n",
      "16\n",
      "92.72\n",
      "\n",
      "\n",
      "在这破股市混，活着，还有口气喘，死不了最终都是赢家的！明白？\n",
      "17\n",
      "92.70\n",
      "\n",
      "\n",
      "张清华BKD战法直播教学http://t.cn/EPJExNO（下载App->http://t.cn/RDUuslr）\n",
      "18\n",
      "92.68\n",
      "\n",
      "\n",
      "【证监会：稳妥推进交易场所清理整顿工作 建立健全规范发展的长效机制】 9月25日讯，证监会消息，9月13日，清理整顿各类交易场所部际联席会议在北京组织召开交易场所清理整顿工作专题会议。会议要求，各地区要坚持底线思维，讲究方式方法，稳妥推进交易场所清理整顿和遗留问题处置工作，防范处置风险\n",
      "19\n",
      "92.66\n",
      "\n",
      "……\n",
      "20\n",
      "92.35\n",
      "\n",
      "#眼见为实# 俗话说大鱼吃小鱼，你见过大鱼吃大鱼的吗？如果我们把股市里的散户比喻为小鱼，机构比喻为大鱼。以前是机构吃散户，现在散户被吃光了。机构开始吃机构了。看见这个视频请转走，散户应尽量远离机构踩踏出货的高价庄股。\n",
      "\n",
      "\n",
      "\n",
      "\n",
      "\n",
      "\n",
      "\n",
      "\n",
      "\n",
      "\n",
      "\n",
      "\n",
      "上拉加载更多\n"
     ]
    }
   ],
   "source": [
    "elems = driver.find_elements_by_tag_name(\"span\");\n",
    "for elem in elems:\n",
    "    print(elem.text)"
   ]
  },
  {
   "cell_type": "markdown",
   "metadata": {},
   "source": [
    "分析定位到影响力分数的Xpath发现，第一个影响力分数的Xpath是“/html/body/div[2]/div/div[2]/div[1]/div[2]/article/section[2]/div/div[1]/a/div/div/div[1]/div[1]/dl/dd/span[1]”，而第20个影响力分数的Xpath是“/html/body/div[2]/div/div[2]/div[1]/div[2]/article/section[2]/div/div[20]/a/div/div/div[1]/div[1]/dl/dd/span[1]”。Xpath中的“a/div/div/div[1]/div[1]/dl/dd/span[1]”是1-20名微博的影响力分数的Xpath后部所共有的，因此可以使用这个线索来提取影响力分数。"
   ]
  },
  {
   "cell_type": "code",
   "execution_count": 6,
   "metadata": {},
   "outputs": [
    {
     "name": "stdout",
     "output_type": "stream",
     "text": [
      "98.48\n",
      "97.98\n",
      "97.41\n",
      "97.10\n",
      "95.16\n",
      "94.97\n",
      "94.31\n",
      "94.00\n",
      "93.67\n",
      "93.63\n",
      "93.56\n",
      "93.54\n",
      "93.53\n",
      "93.38\n",
      "93.16\n",
      "92.72\n",
      "92.70\n",
      "92.68\n",
      "92.66\n",
      "92.35\n"
     ]
    }
   ],
   "source": [
    "elems = driver.find_elements_by_xpath(\"//a/div/div/div[1]/div[1]/dl/dd/span[1]\");\n",
    "for elem in elems:\n",
    "    print(elem.text)"
   ]
  },
  {
   "cell_type": "markdown",
   "metadata": {},
   "source": [
    "## 抓取Ajax动态页面"
   ]
  },
  {
   "cell_type": "markdown",
   "metadata": {},
   "source": [
    "AJAX即“Asynchronous Javascript And XML”（异步JavaScript和XML），是指一种创建交互式网页应用的网页开发技术。\n",
    "AJAX = 异步 JavaScript和XML（标准通用标记语言的子集）。\n",
    "AJAX 是一种用于创建快速动态网页的技术。\n",
    "通过在后台与服务器进行少量数据交换，AJAX 可以使网页实现异步更新。这意味着可以在不重新加载整个网页的情况下，对网页的某部分进行更新。\n",
    "传统的网页（不使用 AJAX）如果需要更新内容，必须重载整个网页页面。\n",
    "上面的微博排行榜当中，我们只提取了排名1-20名的微博博主信息，想拿到21-40名的信息需要把页面往下拉，这样下面的信息才会显示。下面的代码实现了“把页面往下拉6000个像素”的效果。为什么是6000个像素，这是多次试验之后得到的数值。"
   ]
  },
  {
   "cell_type": "code",
   "execution_count": 7,
   "metadata": {},
   "outputs": [],
   "source": [
    "driver.execute_script(\"window.scrollBy(0,6000)\")"
   ]
  },
  {
   "cell_type": "markdown",
   "metadata": {},
   "source": [
    "此时打印提取的`<h3>`标签的个数，发现可以提取出40个而不是原来的20个，说明第21-40名的信息也被提取出来了。"
   ]
  },
  {
   "cell_type": "code",
   "execution_count": 9,
   "metadata": {},
   "outputs": [
    {
     "name": "stdout",
     "output_type": "stream",
     "text": [
      "40\n"
     ]
    }
   ],
   "source": [
    "elems = driver.find_elements_by_tag_name(\"h3\");\n",
    "print(len(elems))"
   ]
  },
  {
   "cell_type": "markdown",
   "metadata": {},
   "source": [
    "下面是打印出排名21-40名的微博的名称。"
   ]
  },
  {
   "cell_type": "code",
   "execution_count": 13,
   "metadata": {},
   "outputs": [
    {
     "name": "stdout",
     "output_type": "stream",
     "text": [
      "金融八卦女\n",
      "广闻博见V\n",
      "股指期货if先生\n",
      "石小杰微博\n",
      "价值投资二十年\n",
      "樊建川\n",
      "余丰慧\n",
      "林登万大人\n",
      "谁是谁非任评说\n",
      "炒短线的老李\n",
      "魅仙儿炒股秘籍\n",
      "A股侠女\n",
      "花荣\n",
      "天狼50陈浩\n",
      "吴其伦\n",
      "澄泓-研究君\n",
      "智泉古道\n",
      "李云飞-豪七的爸比\n",
      "混沌与概率1997\n",
      "卢麒元\n"
     ]
    }
   ],
   "source": [
    "for i in range(20,40):\n",
    "    print(elems[i].text)"
   ]
  },
  {
   "cell_type": "markdown",
   "metadata": {},
   "source": [
    "下面是他们的简介。"
   ]
  },
  {
   "cell_type": "code",
   "execution_count": 14,
   "metadata": {},
   "outputs": [
    {
     "name": "stdout",
     "output_type": "stream",
     "text": [
      "微博知名财经博主 头条文章作者 微博签约自媒体\n",
      "知名财经博主 微博股评师 微博签约自媒体\n",
      "职业投资人 知名财经博主 微博签约自媒体\n",
      "中国煤矿文工团说唱团团长、著名相声演员\n",
      "博众投资证券 讲师 知名财经博主 财经视频自媒体\n",
      "四川省人大常委会委员，建川博物馆馆长 微博签约自媒体\n",
      "经济金融专家；《互联网金融革命》作者 微博股评师 知名财经博主 微博签约自媒体\n",
      "微博股评师 财经视频自媒体\n",
      "中信改革发展研究院资深研究员、政法大学客座教授、投资人、律师 微博签约自媒体\n",
      "知名财经博主 头条文章作者 微博签约自媒体\n",
      "知名财经博主\n",
      "职业投资人\n",
      "股市职业操盘专家，知名财经作家花荣 微博签约自媒体\n",
      "鼎信汇金（北京）投资管理有限公司总经理及首席策略师 头条文章作者\n",
      "知名财经评论人 微博投资专家 微博签约自媒体\n",
      "澄泓研究首席研究员 微博签约自媒体\n",
      "知名财经博主 微博签约自媒体\n",
      "北京中昆金信投资管理有限公司董事长 金信私募基金经理 头条文章作者 微博签约自媒体\n",
      "福建宏祥享通投资有限公司 投资总监 微博签约自媒体\n",
      "深圳市金宗信投资有限公司 董事 知名财经博主 微博签约自媒体\n"
     ]
    }
   ],
   "source": [
    "elems = driver.find_elements_by_tag_name(\"h4\");\n",
    "for i in range(20,40):\n",
    "    print(elems[i].text)"
   ]
  },
  {
   "cell_type": "markdown",
   "metadata": {},
   "source": [
    "最后是他们的影响力分数。"
   ]
  },
  {
   "cell_type": "code",
   "execution_count": 15,
   "metadata": {},
   "outputs": [
    {
     "name": "stdout",
     "output_type": "stream",
     "text": [
      "92.22\n",
      "92.18\n",
      "92.11\n",
      "92.04\n",
      "91.89\n",
      "91.79\n",
      "91.66\n",
      "91.38\n",
      "91.29\n",
      "91.24\n",
      "91.18\n",
      "91.09\n",
      "90.98\n",
      "90.76\n",
      "90.66\n",
      "90.65\n",
      "90.57\n",
      "90.52\n",
      "90.46\n",
      "90.41\n"
     ]
    }
   ],
   "source": [
    "elems = driver.find_elements_by_xpath(\"//a/div/div/div[1]/div[1]/dl/dd/span[1]\");\n",
    "for i in range(20,40):\n",
    "    print(elems[i].text)"
   ]
  },
  {
   "cell_type": "markdown",
   "metadata": {},
   "source": [
    "大功告成，关闭driver。"
   ]
  },
  {
   "cell_type": "code",
   "execution_count": 16,
   "metadata": {},
   "outputs": [],
   "source": [
    "driver.close()"
   ]
  }
 ],
 "metadata": {
  "kernelspec": {
   "display_name": "Python 3",
   "language": "python",
   "name": "python3"
  },
  "language_info": {
   "codemirror_mode": {
    "name": "ipython",
    "version": 3
   },
   "file_extension": ".py",
   "mimetype": "text/x-python",
   "name": "python",
   "nbconvert_exporter": "python",
   "pygments_lexer": "ipython3",
   "version": "3.7.0"
  }
 },
 "nbformat": 4,
 "nbformat_minor": 2
}
